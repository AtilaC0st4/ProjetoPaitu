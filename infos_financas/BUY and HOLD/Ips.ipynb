{
 "cells": [
  {
   "cell_type": "markdown",
   "metadata": {},
   "source": [
    "# Configurando a carteira:\n",
    "\n"
   ]
  },
  {
   "cell_type": "code",
   "execution_count": 2,
   "metadata": {},
   "outputs": [
    {
     "name": "stderr",
     "output_type": "stream",
     "text": [
      "ERROR: Could not open requirements file: [Errno 2] No such file or directory: 'requirements.txt'\n"
     ]
    }
   ],
   "source": [
    "! pip install --quiet -r requirements.txt"
   ]
  },
  {
   "cell_type": "code",
   "execution_count": 3,
   "metadata": {},
   "outputs": [],
   "source": [
    "import yfinance as yf\n",
    "import pandas as pd\n",
    "import numpy as np"
   ]
  },
  {
   "cell_type": "code",
   "execution_count": 4,
   "metadata": {},
   "outputs": [],
   "source": [
    "compras = {\"WEGE3.SA\": 1300, \"BPAC11.SA\": 1100,\n",
    "           \"SMAL11.SA\": 800, \"AAPL34.SA\": 700, \"IVVB11.SA\": 500,\n",
    "           \"PETR4.SA\": 1000, \"COCA34.SA\": 1000}"
   ]
  },
  {
   "cell_type": "code",
   "execution_count": 5,
   "metadata": {},
   "outputs": [
    {
     "data": {
      "text/plain": [
       "['WEGE3.SA',\n",
       " 'BPAC11.SA',\n",
       " 'SMAL11.SA',\n",
       " 'AAPL34.SA',\n",
       " 'IVVB11.SA',\n",
       " 'PETR4.SA',\n",
       " 'COCA34.SA']"
      ]
     },
     "execution_count": 5,
     "metadata": {},
     "output_type": "execute_result"
    }
   ],
   "source": [
    "list(compras.keys())"
   ]
  },
  {
   "cell_type": "code",
   "execution_count": 6,
   "metadata": {},
   "outputs": [
    {
     "data": {
      "text/plain": [
       "6400"
      ]
     },
     "execution_count": 6,
     "metadata": {},
     "output_type": "execute_result"
    }
   ],
   "source": [
    "sum(compras.values())"
   ]
  },
  {
   "cell_type": "code",
   "execution_count": 7,
   "metadata": {},
   "outputs": [],
   "source": [
    "inicio = \"2020-01-01\"\n",
    "\n",
    "fim = \"2020-02-02\"\n",
    "\n",
    "custo = yf.download(list(compras.keys()), start= inicio, end = fim, progress= False)[ \"Adj Close\"]"
   ]
  },
  {
   "cell_type": "markdown",
   "metadata": {},
   "source": [
    "# Simulação da carteira"
   ]
  },
  {
   "cell_type": "code",
   "execution_count": 8,
   "metadata": {},
   "outputs": [],
   "source": [
    "primeiro = custo.iloc[0]"
   ]
  },
  {
   "cell_type": "code",
   "execution_count": 10,
   "metadata": {},
   "outputs": [],
   "source": [
    "compras_df = pd.Series(data= compras, index= list(compras.keys()))"
   ]
  },
  {
   "cell_type": "code",
   "execution_count": 12,
   "metadata": {},
   "outputs": [],
   "source": [
    "qtd_acoes = round(compras_df/primeiro, 0)"
   ]
  },
  {
   "cell_type": "code",
   "execution_count": 18,
   "metadata": {},
   "outputs": [],
   "source": [
    "PL = custo*qtd_acoes"
   ]
  },
  {
   "cell_type": "code",
   "execution_count": 19,
   "metadata": {},
   "outputs": [],
   "source": [
    "PL[\"PL Total\"] = PL.sum(axis=1)"
   ]
  },
  {
   "cell_type": "code",
   "execution_count": 21,
   "metadata": {},
   "outputs": [
    {
     "data": {
      "text/html": [
       "<div>\n",
       "<style scoped>\n",
       "    .dataframe tbody tr th:only-of-type {\n",
       "        vertical-align: middle;\n",
       "    }\n",
       "\n",
       "    .dataframe tbody tr th {\n",
       "        vertical-align: top;\n",
       "    }\n",
       "\n",
       "    .dataframe thead th {\n",
       "        text-align: right;\n",
       "    }\n",
       "</style>\n",
       "<table border=\"1\" class=\"dataframe\">\n",
       "  <thead>\n",
       "    <tr style=\"text-align: right;\">\n",
       "      <th>Ticker</th>\n",
       "      <th>AAPL34.SA</th>\n",
       "      <th>BPAC11.SA</th>\n",
       "      <th>COCA34.SA</th>\n",
       "      <th>IVVB11.SA</th>\n",
       "      <th>PETR4.SA</th>\n",
       "      <th>SMAL11.SA</th>\n",
       "      <th>WEGE3.SA</th>\n",
       "      <th>PL Total</th>\n",
       "    </tr>\n",
       "    <tr>\n",
       "      <th>Date</th>\n",
       "      <th></th>\n",
       "      <th></th>\n",
       "      <th></th>\n",
       "      <th></th>\n",
       "      <th></th>\n",
       "      <th></th>\n",
       "      <th></th>\n",
       "      <th></th>\n",
       "    </tr>\n",
       "  </thead>\n",
       "  <tbody>\n",
       "    <tr>\n",
       "      <th>2020-01-02</th>\n",
       "      <td>694.117588</td>\n",
       "      <td>1108.034790</td>\n",
       "      <td>1001.701584</td>\n",
       "      <td>562.400024</td>\n",
       "      <td>998.643241</td>\n",
       "      <td>837.000000</td>\n",
       "      <td>1306.964899</td>\n",
       "      <td>6508.862126</td>\n",
       "    </tr>\n",
       "    <tr>\n",
       "      <th>2020-01-03</th>\n",
       "      <td>695.490462</td>\n",
       "      <td>1111.250122</td>\n",
       "      <td>988.045692</td>\n",
       "      <td>562.799988</td>\n",
       "      <td>990.510988</td>\n",
       "      <td>845.399963</td>\n",
       "      <td>1290.275070</td>\n",
       "      <td>6483.772286</td>\n",
       "    </tr>\n",
       "    <tr>\n",
       "      <th>2020-01-06</th>\n",
       "      <td>698.922715</td>\n",
       "      <td>1109.642700</td>\n",
       "      <td>990.946426</td>\n",
       "      <td>564.799988</td>\n",
       "      <td>1002.221251</td>\n",
       "      <td>834.600037</td>\n",
       "      <td>1293.613398</td>\n",
       "      <td>6494.746514</td>\n",
       "    </tr>\n",
       "    <tr>\n",
       "      <th>2020-01-07</th>\n",
       "      <td>700.638797</td>\n",
       "      <td>1114.069458</td>\n",
       "      <td>990.946426</td>\n",
       "      <td>565.200012</td>\n",
       "      <td>998.318100</td>\n",
       "      <td>836.399963</td>\n",
       "      <td>1303.626722</td>\n",
       "      <td>6509.199479</td>\n",
       "    </tr>\n",
       "    <tr>\n",
       "      <th>2020-01-08</th>\n",
       "      <td>706.530919</td>\n",
       "      <td>1104.196289</td>\n",
       "      <td>990.455360</td>\n",
       "      <td>566.200012</td>\n",
       "      <td>992.137423</td>\n",
       "      <td>829.199982</td>\n",
       "      <td>1254.300166</td>\n",
       "      <td>6443.020151</td>\n",
       "    </tr>\n",
       "  </tbody>\n",
       "</table>\n",
       "</div>"
      ],
      "text/plain": [
       "Ticker       AAPL34.SA    BPAC11.SA    COCA34.SA   IVVB11.SA     PETR4.SA  \\\n",
       "Date                                                                        \n",
       "2020-01-02  694.117588  1108.034790  1001.701584  562.400024   998.643241   \n",
       "2020-01-03  695.490462  1111.250122   988.045692  562.799988   990.510988   \n",
       "2020-01-06  698.922715  1109.642700   990.946426  564.799988  1002.221251   \n",
       "2020-01-07  700.638797  1114.069458   990.946426  565.200012   998.318100   \n",
       "2020-01-08  706.530919  1104.196289   990.455360  566.200012   992.137423   \n",
       "\n",
       "Ticker       SMAL11.SA     WEGE3.SA     PL Total  \n",
       "Date                                              \n",
       "2020-01-02  837.000000  1306.964899  6508.862126  \n",
       "2020-01-03  845.399963  1290.275070  6483.772286  \n",
       "2020-01-06  834.600037  1293.613398  6494.746514  \n",
       "2020-01-07  836.399963  1303.626722  6509.199479  \n",
       "2020-01-08  829.199982  1254.300166  6443.020151  "
      ]
     },
     "execution_count": 21,
     "metadata": {},
     "output_type": "execute_result"
    }
   ],
   "source": [
    "PL.head()"
   ]
  },
  {
   "cell_type": "code",
   "execution_count": 22,
   "metadata": {},
   "outputs": [
    {
     "data": {
      "text/html": [
       "<div>\n",
       "<style scoped>\n",
       "    .dataframe tbody tr th:only-of-type {\n",
       "        vertical-align: middle;\n",
       "    }\n",
       "\n",
       "    .dataframe tbody tr th {\n",
       "        vertical-align: top;\n",
       "    }\n",
       "\n",
       "    .dataframe thead th {\n",
       "        text-align: right;\n",
       "    }\n",
       "</style>\n",
       "<table border=\"1\" class=\"dataframe\">\n",
       "  <thead>\n",
       "    <tr style=\"text-align: right;\">\n",
       "      <th>Ticker</th>\n",
       "      <th>AAPL34.SA</th>\n",
       "      <th>BPAC11.SA</th>\n",
       "      <th>COCA34.SA</th>\n",
       "      <th>IVVB11.SA</th>\n",
       "      <th>PETR4.SA</th>\n",
       "      <th>SMAL11.SA</th>\n",
       "      <th>WEGE3.SA</th>\n",
       "      <th>PL Total</th>\n",
       "    </tr>\n",
       "    <tr>\n",
       "      <th>Date</th>\n",
       "      <th></th>\n",
       "      <th></th>\n",
       "      <th></th>\n",
       "      <th></th>\n",
       "      <th></th>\n",
       "      <th></th>\n",
       "      <th></th>\n",
       "      <th></th>\n",
       "    </tr>\n",
       "  </thead>\n",
       "  <tbody>\n",
       "    <tr>\n",
       "      <th>2020-01-27</th>\n",
       "      <td>738.050550</td>\n",
       "      <td>1105.522583</td>\n",
       "      <td>1071.632423</td>\n",
       "      <td>584.239990</td>\n",
       "      <td>911.790643</td>\n",
       "      <td>842.820007</td>\n",
       "      <td>1519.476448</td>\n",
       "      <td>6773.532645</td>\n",
       "    </tr>\n",
       "    <tr>\n",
       "      <th>2020-01-28</th>\n",
       "      <td>765.737259</td>\n",
       "      <td>1108.469849</td>\n",
       "      <td>1065.429153</td>\n",
       "      <td>588.000000</td>\n",
       "      <td>936.837926</td>\n",
       "      <td>855.600037</td>\n",
       "      <td>1558.047201</td>\n",
       "      <td>6878.121425</td>\n",
       "    </tr>\n",
       "    <tr>\n",
       "      <th>2020-01-29</th>\n",
       "      <td>781.239725</td>\n",
       "      <td>1111.269897</td>\n",
       "      <td>1065.429153</td>\n",
       "      <td>596.000000</td>\n",
       "      <td>938.464279</td>\n",
       "      <td>848.219971</td>\n",
       "      <td>1572.140202</td>\n",
       "      <td>6912.763227</td>\n",
       "    </tr>\n",
       "    <tr>\n",
       "      <th>2020-01-30</th>\n",
       "      <td>780.095491</td>\n",
       "      <td>1088.575684</td>\n",
       "      <td>1065.429153</td>\n",
       "      <td>599.559998</td>\n",
       "      <td>941.392007</td>\n",
       "      <td>833.460022</td>\n",
       "      <td>1519.476448</td>\n",
       "      <td>6827.988803</td>\n",
       "    </tr>\n",
       "    <tr>\n",
       "      <th>2020-01-31</th>\n",
       "      <td>762.762915</td>\n",
       "      <td>1094.470459</td>\n",
       "      <td>1065.429153</td>\n",
       "      <td>592.400024</td>\n",
       "      <td>925.452805</td>\n",
       "      <td>821.460022</td>\n",
       "      <td>1461.619188</td>\n",
       "      <td>6723.594566</td>\n",
       "    </tr>\n",
       "  </tbody>\n",
       "</table>\n",
       "</div>"
      ],
      "text/plain": [
       "Ticker       AAPL34.SA    BPAC11.SA    COCA34.SA   IVVB11.SA    PETR4.SA  \\\n",
       "Date                                                                       \n",
       "2020-01-27  738.050550  1105.522583  1071.632423  584.239990  911.790643   \n",
       "2020-01-28  765.737259  1108.469849  1065.429153  588.000000  936.837926   \n",
       "2020-01-29  781.239725  1111.269897  1065.429153  596.000000  938.464279   \n",
       "2020-01-30  780.095491  1088.575684  1065.429153  599.559998  941.392007   \n",
       "2020-01-31  762.762915  1094.470459  1065.429153  592.400024  925.452805   \n",
       "\n",
       "Ticker       SMAL11.SA     WEGE3.SA     PL Total  \n",
       "Date                                              \n",
       "2020-01-27  842.820007  1519.476448  6773.532645  \n",
       "2020-01-28  855.600037  1558.047201  6878.121425  \n",
       "2020-01-29  848.219971  1572.140202  6912.763227  \n",
       "2020-01-30  833.460022  1519.476448  6827.988803  \n",
       "2020-01-31  821.460022  1461.619188  6723.594566  "
      ]
     },
     "execution_count": 22,
     "metadata": {},
     "output_type": "execute_result"
    }
   ],
   "source": [
    "PL.tail()"
   ]
  }
 ],
 "metadata": {
  "kernelspec": {
   "display_name": "base",
   "language": "python",
   "name": "python3"
  },
  "language_info": {
   "codemirror_mode": {
    "name": "ipython",
    "version": 3
   },
   "file_extension": ".py",
   "mimetype": "text/x-python",
   "name": "python",
   "nbconvert_exporter": "python",
   "pygments_lexer": "ipython3",
   "version": "3.11.3"
  }
 },
 "nbformat": 4,
 "nbformat_minor": 2
}
