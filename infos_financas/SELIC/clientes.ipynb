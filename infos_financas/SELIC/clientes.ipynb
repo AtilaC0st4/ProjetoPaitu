{
 "cells": [
  {
   "cell_type": "code",
   "execution_count": null,
   "metadata": {},
   "outputs": [],
   "source": [
    "! pip install requests "
   ]
  },
  {
   "cell_type": "code",
   "execution_count": 1,
   "metadata": {},
   "outputs": [
    {
     "name": "stdout",
     "output_type": "stream",
     "text": [
      "{'@odata.context': 'https://was-p.bcnet.bcb.gov.br/olinda/servico/selic_clientes/versao/v1/odata$metadata#_QuantidadePorTipoCliente(Data,Tipo,Descricao,Quantidade)', 'value': [{'Data': '2019-01-01', 'Tipo': '005', 'Descricao': 'Uso exclusivo do administrador do Selic', 'Quantidade': 6}, {'Data': '2019-01-01', 'Tipo': '006', 'Descricao': 'Banco não residente', 'Quantidade': 63}, {'Data': '2019-01-01', 'Tipo': '013', 'Descricao': 'Consórcio', 'Quantidade': 58}, {'Data': '2019-01-01', 'Tipo': '016', 'Descricao': 'Demais investidores institucionais', 'Quantidade': 35}, {'Data': '2019-01-01', 'Tipo': '017', 'Descricao': 'Demais investidores institucionais não residentes', 'Quantidade': 17}, {'Data': '2019-01-01', 'Tipo': '018', 'Descricao': 'Entidade aberta de previdência', 'Quantidade': 29}, {'Data': '2019-01-01', 'Tipo': '020', 'Descricao': 'Entidade fechada de previdência', 'Quantidade': 308}, {'Data': '2019-01-01', 'Tipo': '022', 'Descricao': 'FGTS', 'Quantidade': 1}, {'Data': '2019-01-01', 'Tipo': '023', 'Descricao': 'Demais fundos', 'Quantidade': 19}, {'Data': '2019-01-01', 'Tipo': '024', 'Descricao': 'Fundo ou entidade assemelhada não residente', 'Quantidade': 2020}, {'Data': '2019-01-01', 'Tipo': '025', 'Descricao': 'Fundo regulamentado pela CVM', 'Quantidade': 18012}, {'Data': '2019-01-01', 'Tipo': '026', 'Descricao': 'Fundo/programa do extramercado', 'Quantidade': 21}, {'Data': '2019-01-01', 'Tipo': '027', 'Descricao': 'Clube de Investimento', 'Quantidade': 313}, {'Data': '2019-01-01', 'Tipo': '028', 'Descricao': 'Operadora de planos de assistência à saúde', 'Quantidade': 47}, {'Data': '2019-01-01', 'Tipo': '029', 'Descricao': 'Pessoa física', 'Quantidade': 108670}, {'Data': '2019-01-01', 'Tipo': '030', 'Descricao': 'Pessoa física não residente', 'Quantidade': 130}, {'Data': '2019-01-01', 'Tipo': '032', 'Descricao': 'Demais pessoas jurídicas financeiras não residentes', 'Quantidade': 698}, {'Data': '2019-01-01', 'Tipo': '033', 'Descricao': 'Pessoa jurídica não financeira', 'Quantidade': 7212}, {'Data': '2019-01-01', 'Tipo': '034', 'Descricao': 'Pessoa jurídica não financeira não residente', 'Quantidade': 411}, {'Data': '2019-01-01', 'Tipo': '035', 'Descricao': 'Regime próprio de previdência social de servidor público', 'Quantidade': 61}, {'Data': '2019-01-01', 'Tipo': '036', 'Descricao': 'Resseguradora', 'Quantidade': 26}, {'Data': '2019-01-01', 'Tipo': '038', 'Descricao': 'Seguradora de saúde', 'Quantidade': 18}, {'Data': '2019-01-01', 'Tipo': '040', 'Descricao': 'Uso exclusivo do administrador do Selic', 'Quantidade': 15}, {'Data': '2019-01-01', 'Tipo': '043', 'Descricao': 'Sociedade corretora ou distribuidora não residente', 'Quantidade': 74}, {'Data': '2019-01-01', 'Tipo': '045', 'Descricao': 'Sociedade de capitalização', 'Quantidade': 25}, {'Data': '2019-01-01', 'Tipo': '048', 'Descricao': 'Uso exclusivo do administrador do Selic', 'Quantidade': 30}, {'Data': '2019-01-01', 'Tipo': '051', 'Descricao': 'Sociedade seguradora', 'Quantidade': 186}, {'Data': '2019-01-01', 'Tipo': '055', 'Descricao': 'Uso exclusivo do administrador do Selic', 'Quantidade': 3}]}\n"
     ]
    }
   ],
   "source": [
    "import requests\n",
    "\n",
    "link = \"https://olinda.bcb.gov.br/olinda/servico/selic_clientes/versao/v1/odata/QuantidadePorTipoCliente(Data=@Data)?@Data=%272019-01-01%27&$top=1000&$format=json&$select=Data,Tipo,Descricao,Quantidade\"\n",
    "Requesições = requests.get(link)\n",
    "informacoes = Requesições.json()\n",
    "\n",
    "print(informacoes)\n"
   ]
  },
  {
   "cell_type": "code",
   "execution_count": null,
   "metadata": {},
   "outputs": [],
   "source": [
    "import pandas as pd\n",
    "\n",
    "Tabela = pd.DataFrame(informacoes[\"value\"])\n",
    "display(Tabela)\n"
   ]
  }
 ],
 "metadata": {
  "kernelspec": {
   "display_name": "base",
   "language": "python",
   "name": "python3"
  },
  "language_info": {
   "codemirror_mode": {
    "name": "ipython",
    "version": 3
   },
   "file_extension": ".py",
   "mimetype": "text/x-python",
   "name": "python",
   "nbconvert_exporter": "python",
   "pygments_lexer": "ipython3",
   "version": "3.11.3"
  }
 },
 "nbformat": 4,
 "nbformat_minor": 2
}
