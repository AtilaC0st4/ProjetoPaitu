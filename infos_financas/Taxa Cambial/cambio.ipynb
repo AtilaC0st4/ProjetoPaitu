{
 "cells": [
  {
   "cell_type": "code",
   "execution_count": null,
   "metadata": {},
   "outputs": [],
   "source": [
    "! pip install requests"
   ]
  },
  {
   "cell_type": "code",
   "execution_count": null,
   "metadata": {},
   "outputs": [],
   "source": [
    "import requests\n",
    "\n",
    "link = \"https://economia.awesomeapi.com.br/last/USD-BRL,EUR-BRL,BTC-BRL\"\n",
    "\n",
    "dados = requests.get(link)\n",
    "print(dados.json())"
   ]
  },
  {
   "cell_type": "code",
   "execution_count": null,
   "metadata": {},
   "outputs": [],
   "source": [
    "import requests\n",
    "import pandas as pd\n",
    "\n",
    "url = \"https://economia.awesomeapi.com.br/last/USD-BRL,EUR-BRL,BTC-BRL\"\n",
    "\n",
    "response = requests.get(url)\n",
    "\n",
    "if response.status_code == 200:\n",
    "    dados_ativos = response.json() \n",
    "    \n",
    "    tabela = pd.DataFrame(dados_ativos)\n",
    "    \n",
    "    display(tabela)\n",
    "else:\n",
    "    print(\"Erro ao conseguir os dados!. Status Code:\", response.status_code)\n",
    "\n"
   ]
  }
 ],
 "metadata": {
  "kernelspec": {
   "display_name": "base",
   "language": "python",
   "name": "python3"
  },
  "language_info": {
   "codemirror_mode": {
    "name": "ipython",
    "version": 3
   },
   "file_extension": ".py",
   "mimetype": "text/x-python",
   "name": "python",
   "nbconvert_exporter": "python",
   "pygments_lexer": "ipython3",
   "version": "3.11.3"
  }
 },
 "nbformat": 4,
 "nbformat_minor": 2
}
