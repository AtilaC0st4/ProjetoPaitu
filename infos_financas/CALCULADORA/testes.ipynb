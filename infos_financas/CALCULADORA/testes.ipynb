{
 "cells": [
  {
   "cell_type": "code",
   "execution_count": null,
   "metadata": {},
   "outputs": [],
   "source": [
    "! pip install --quiet -r requirements.txt"
   ]
  },
  {
   "cell_type": "code",
   "execution_count": 4,
   "metadata": {},
   "outputs": [],
   "source": [
    "import requests as requests"
   ]
  },
  {
   "cell_type": "code",
   "execution_count": 2,
   "metadata": {},
   "outputs": [
    {
     "name": "stdout",
     "output_type": "stream",
     "text": [
      "Taxa SELIC atual: 0.040168\n"
     ]
    }
   ],
   "source": [
    "import requests\n",
    "\n",
    "def Selic():\n",
    "    try:\n",
    "        response = requests.get(\"https://api.bcb.gov.br/dados/serie/bcdata.sgs.11/dados?formato=json\")\n",
    "        data = response.json()\n",
    "        # Obtemos o valor da última taxa SELIC na lista\n",
    "        valor_Selic = data[-1][\"valor\"]\n",
    "        return valor_Selic\n",
    "    except Exception as e:\n",
    "        print(\"Erro ao obter a taxa SELIC:\", e)\n",
    "        return None\n",
    "\n",
    "# Testando a função\n",
    "valor_Selic = Selic()\n",
    "if valor_Selic:\n",
    "    print(\"Taxa SELIC atual:\", valor_Selic)\n",
    "else:\n",
    "    print(\"Não foi possível obter a taxa SELIC.\")\n"
   ]
  },
  {
   "cell_type": "code",
   "execution_count": 8,
   "metadata": {},
   "outputs": [
    {
     "name": "stdout",
     "output_type": "stream",
     "text": [
      "Valor do CDI: 10.65\n"
     ]
    }
   ],
   "source": [
    "import requests\n",
    "\n",
    "def CDI():\n",
    "    try:\n",
    "        response = requests.get(\"https://brasilapi.com.br/api/taxas/v1/cdi\")\n",
    "        data = response.json()\n",
    "        \n",
    "        valor_CDI = data[\"valor\"]\n",
    "        return valor_CDI\n",
    "    except Exception as e:\n",
    "        print(\"Erro ao obter o valor do CDI:\", e)\n",
    "        return None\n",
    "    \n",
    "valor_CDI = CDI()\n",
    "if valor_CDI:\n",
    "    print(\"Valor do CDI:\", valor_CDI)\n",
    "else:\n",
    "    print(\"Erro ao obter o valor do CDI\")\n"
   ]
  },
  {
   "cell_type": "code",
   "execution_count": 12,
   "metadata": {},
   "outputs": [
    {
     "name": "stdout",
     "output_type": "stream",
     "text": [
      "Valor do IPCA: 3.93\n"
     ]
    }
   ],
   "source": [
    "import requests\n",
    "\n",
    "def IPCA():\n",
    "    try:\n",
    "        response = requests.get(\"https://brasilapi.com.br/api/taxas/v1/ipca\")\n",
    "        data = response.json()\n",
    "        \n",
    "        valor_IPCA = data[\"valor\"]\n",
    "        return valor_IPCA\n",
    "    except Exception as e:\n",
    "        print(\"Erro ao obter o valor do IPCA:\", e)\n",
    "        return None\n",
    "    \n",
    "valor_IPCA = IPCA()\n",
    "if valor_IPCA:\n",
    "    print(\"Valor do IPCA:\", valor_IPCA)\n",
    "else:\n",
    "    print(\"Erro ao obter o valor do IPCA\")\n"
   ]
  },
  {
   "cell_type": "code",
   "execution_count": 7,
   "metadata": {},
   "outputs": [],
   "source": [
    "import plotly.graph_objects as go\n",
    "\n",
    "# Dados de exemplo\n",
    "investimentos = ['Investimento A', 'Investimento B', 'Investimento C']\n",
    "rois = [20, 15, 30]\n",
    "\n",
    "# Criar o gráfico de linhas\n",
    "fig = go.Figure()\n",
    "\n",
    "# Adicionar cada investimento como uma linha no gráfico\n",
    "for i in range(len(investimentos)):\n",
    "    fig.add_trace(go.Scatter(x=list(range(1, len(rois) + 1)), y=rois, mode='lines+markers', name=investimentos[i]))\n",
    "\n",
    "# Configurar o layout\n",
    "fig.update_layout(title='Comparação de ROIs', xaxis_title='Investimentos', yaxis_title='ROI (%)')\n",
    "\n",
    "# Salvar o gráfico em HTML\n",
    "fig.write_html(\"comparacao_rois.html\")\n"
   ]
  }
 ],
 "metadata": {
  "kernelspec": {
   "display_name": "base",
   "language": "python",
   "name": "python3"
  },
  "language_info": {
   "codemirror_mode": {
    "name": "ipython",
    "version": 3
   },
   "file_extension": ".py",
   "mimetype": "text/x-python",
   "name": "python",
   "nbconvert_exporter": "python",
   "pygments_lexer": "ipython3",
   "version": "3.11.3"
  }
 },
 "nbformat": 4,
 "nbformat_minor": 2
}
