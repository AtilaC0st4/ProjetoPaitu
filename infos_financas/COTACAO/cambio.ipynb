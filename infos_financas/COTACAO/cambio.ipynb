{
 "cells": [
  {
   "cell_type": "code",
   "execution_count": 1,
   "metadata": {},
   "outputs": [
    {
     "name": "stderr",
     "output_type": "stream",
     "text": [
      "ERROR: Could not open requirements file: [Errno 2] No such file or directory: 'requirements.txt'\n"
     ]
    }
   ],
   "source": [
    "! pip install --quiet -r requirements.txt"
   ]
  },
  {
   "cell_type": "code",
   "execution_count": 2,
   "metadata": {},
   "outputs": [
    {
     "name": "stdout",
     "output_type": "stream",
     "text": [
      "{'USDBRL': {'code': 'USD', 'codein': 'BRL', 'name': 'Dólar Americano/Real Brasileiro', 'high': '5.1164', 'low': '5.0453', 'varBid': '-0.0388', 'pctChange': '-0.76', 'bid': '5.0723', 'ask': '5.0727', 'timestamp': '1714769994', 'create_date': '2024-05-03 17:59:54'}, 'EURBRL': {'code': 'EUR', 'codein': 'BRL', 'name': 'Euro/Real Brasileiro', 'high': '5.5596', 'low': '5.4503', 'varBid': '-0.0285', 'pctChange': '-0.52', 'bid': '5.4528', 'ask': '5.4608', 'timestamp': '1714769973', 'create_date': '2024-05-03 17:59:33'}, 'BTCBRL': {'code': 'BTC', 'codein': 'BRL', 'name': 'Bitcoin/Real Brasileiro', 'high': '323048', 'low': '303000', 'varBid': '17786', 'pctChange': '5.84', 'bid': '322353', 'ask': '322957', 'timestamp': '1714779287', 'create_date': '2024-05-03 20:34:47'}}\n"
     ]
    }
   ],
   "source": [
    "import requests\n",
    "\n",
    "link = \"https://economia.awesomeapi.com.br/last/USD-BRL,EUR-BRL,BTC-BRL\"\n",
    "\n",
    "dados = requests.get(link)\n",
    "print(dados.json())"
   ]
  },
  {
   "cell_type": "code",
   "execution_count": 3,
   "metadata": {},
   "outputs": [
    {
     "data": {
      "text/html": [
       "<div>\n",
       "<style scoped>\n",
       "    .dataframe tbody tr th:only-of-type {\n",
       "        vertical-align: middle;\n",
       "    }\n",
       "\n",
       "    .dataframe tbody tr th {\n",
       "        vertical-align: top;\n",
       "    }\n",
       "\n",
       "    .dataframe thead th {\n",
       "        text-align: right;\n",
       "    }\n",
       "</style>\n",
       "<table border=\"1\" class=\"dataframe\">\n",
       "  <thead>\n",
       "    <tr style=\"text-align: right;\">\n",
       "      <th></th>\n",
       "      <th>USDBRL</th>\n",
       "      <th>EURBRL</th>\n",
       "      <th>BTCBRL</th>\n",
       "    </tr>\n",
       "  </thead>\n",
       "  <tbody>\n",
       "    <tr>\n",
       "      <th>code</th>\n",
       "      <td>USD</td>\n",
       "      <td>EUR</td>\n",
       "      <td>BTC</td>\n",
       "    </tr>\n",
       "    <tr>\n",
       "      <th>codein</th>\n",
       "      <td>BRL</td>\n",
       "      <td>BRL</td>\n",
       "      <td>BRL</td>\n",
       "    </tr>\n",
       "    <tr>\n",
       "      <th>name</th>\n",
       "      <td>Dólar Americano/Real Brasileiro</td>\n",
       "      <td>Euro/Real Brasileiro</td>\n",
       "      <td>Bitcoin/Real Brasileiro</td>\n",
       "    </tr>\n",
       "    <tr>\n",
       "      <th>high</th>\n",
       "      <td>5.1164</td>\n",
       "      <td>5.5596</td>\n",
       "      <td>323048</td>\n",
       "    </tr>\n",
       "    <tr>\n",
       "      <th>low</th>\n",
       "      <td>5.0453</td>\n",
       "      <td>5.4503</td>\n",
       "      <td>303000</td>\n",
       "    </tr>\n",
       "    <tr>\n",
       "      <th>varBid</th>\n",
       "      <td>-0.0388</td>\n",
       "      <td>-0.0285</td>\n",
       "      <td>17786</td>\n",
       "    </tr>\n",
       "    <tr>\n",
       "      <th>pctChange</th>\n",
       "      <td>-0.76</td>\n",
       "      <td>-0.52</td>\n",
       "      <td>5.84</td>\n",
       "    </tr>\n",
       "    <tr>\n",
       "      <th>bid</th>\n",
       "      <td>5.0723</td>\n",
       "      <td>5.4528</td>\n",
       "      <td>322353</td>\n",
       "    </tr>\n",
       "    <tr>\n",
       "      <th>ask</th>\n",
       "      <td>5.0727</td>\n",
       "      <td>5.4608</td>\n",
       "      <td>322957</td>\n",
       "    </tr>\n",
       "    <tr>\n",
       "      <th>timestamp</th>\n",
       "      <td>1714769994</td>\n",
       "      <td>1714769973</td>\n",
       "      <td>1714779287</td>\n",
       "    </tr>\n",
       "    <tr>\n",
       "      <th>create_date</th>\n",
       "      <td>2024-05-03 17:59:54</td>\n",
       "      <td>2024-05-03 17:59:33</td>\n",
       "      <td>2024-05-03 20:34:47</td>\n",
       "    </tr>\n",
       "  </tbody>\n",
       "</table>\n",
       "</div>"
      ],
      "text/plain": [
       "                                      USDBRL                EURBRL  \\\n",
       "code                                     USD                   EUR   \n",
       "codein                                   BRL                   BRL   \n",
       "name         Dólar Americano/Real Brasileiro  Euro/Real Brasileiro   \n",
       "high                                  5.1164                5.5596   \n",
       "low                                   5.0453                5.4503   \n",
       "varBid                               -0.0388               -0.0285   \n",
       "pctChange                              -0.76                 -0.52   \n",
       "bid                                   5.0723                5.4528   \n",
       "ask                                   5.0727                5.4608   \n",
       "timestamp                         1714769994            1714769973   \n",
       "create_date              2024-05-03 17:59:54   2024-05-03 17:59:33   \n",
       "\n",
       "                              BTCBRL  \n",
       "code                             BTC  \n",
       "codein                           BRL  \n",
       "name         Bitcoin/Real Brasileiro  \n",
       "high                          323048  \n",
       "low                           303000  \n",
       "varBid                         17786  \n",
       "pctChange                       5.84  \n",
       "bid                           322353  \n",
       "ask                           322957  \n",
       "timestamp                 1714779287  \n",
       "create_date      2024-05-03 20:34:47  "
      ]
     },
     "metadata": {},
     "output_type": "display_data"
    }
   ],
   "source": [
    "import requests\n",
    "import pandas as pd\n",
    "\n",
    "url = \"https://economia.awesomeapi.com.br/last/USD-BRL,EUR-BRL,BTC-BRL\"\n",
    "\n",
    "response = requests.get(url)\n",
    "\n",
    "if response.status_code == 200:\n",
    "    dados_ativos = response.json() \n",
    "    \n",
    "    tabela = pd.DataFrame(dados_ativos)\n",
    "    \n",
    "    display(tabela)\n",
    "else:\n",
    "    print(\"Erro ao conseguir os dados!. Status Code:\", response.status_code)\n",
    "\n"
   ]
  }
 ],
 "metadata": {
  "kernelspec": {
   "display_name": "base",
   "language": "python",
   "name": "python3"
  },
  "language_info": {
   "codemirror_mode": {
    "name": "ipython",
    "version": 3
   },
   "file_extension": ".py",
   "mimetype": "text/x-python",
   "name": "python",
   "nbconvert_exporter": "python",
   "pygments_lexer": "ipython3",
   "version": "3.11.3"
  }
 },
 "nbformat": 4,
 "nbformat_minor": 2
}
