{
 "cells": [
  {
   "cell_type": "code",
   "execution_count": 3,
   "metadata": {},
   "outputs": [
    {
     "name": "stderr",
     "output_type": "stream",
     "text": [
      "ERROR: Could not open requirements file: [Errno 2] No such file or directory: 'requirements.txt'\n"
     ]
    }
   ],
   "source": [
    "! pip install --quiet -r requirements.txt"
   ]
  },
  {
   "cell_type": "code",
   "execution_count": 4,
   "metadata": {},
   "outputs": [
    {
     "name": "stdout",
     "output_type": "stream",
     "text": [
      "{'USDBRL': {'code': 'USD', 'codein': 'BRL', 'name': 'Dólar Americano/Real Brasileiro', 'high': '5.0778', 'low': '5.0707', 'varBid': '0.004', 'pctChange': '0.08', 'bid': '5.0744', 'ask': '5.0751', 'timestamp': '1715117323', 'create_date': '2024-05-07 18:28:43'}, 'EURBRL': {'code': 'EUR', 'codein': 'BRL', 'name': 'Euro/Real Brasileiro', 'high': '5.4501', 'low': '5.4501', 'varBid': '0', 'pctChange': '0', 'bid': '5.4461', 'ask': '5.4541', 'timestamp': '1715117848', 'create_date': '2024-05-07 18:37:28'}, 'BTCBRL': {'code': 'BTC', 'codein': 'BRL', 'name': 'Bitcoin/Real Brasileiro', 'high': '328000', 'low': '320307', 'varBid': '-1548', 'pctChange': '-0.48', 'bid': '321328', 'ask': '321681', 'timestamp': '1715117849', 'create_date': '2024-05-07 18:37:29'}}\n"
     ]
    }
   ],
   "source": [
    "import requests\n",
    "\n",
    "link = \"https://economia.awesomeapi.com.br/last/USD-BRL,EUR-BRL,BTC-BRL\"\n",
    "\n",
    "dados = requests.get(link)\n",
    "print(dados.json())"
   ]
  },
  {
   "cell_type": "code",
   "execution_count": 5,
   "metadata": {},
   "outputs": [
    {
     "data": {
      "text/html": [
       "<div>\n",
       "<style scoped>\n",
       "    .dataframe tbody tr th:only-of-type {\n",
       "        vertical-align: middle;\n",
       "    }\n",
       "\n",
       "    .dataframe tbody tr th {\n",
       "        vertical-align: top;\n",
       "    }\n",
       "\n",
       "    .dataframe thead th {\n",
       "        text-align: right;\n",
       "    }\n",
       "</style>\n",
       "<table border=\"1\" class=\"dataframe\">\n",
       "  <thead>\n",
       "    <tr style=\"text-align: right;\">\n",
       "      <th></th>\n",
       "      <th>USDBRL</th>\n",
       "      <th>EURBRL</th>\n",
       "      <th>BTCBRL</th>\n",
       "    </tr>\n",
       "  </thead>\n",
       "  <tbody>\n",
       "    <tr>\n",
       "      <th>code</th>\n",
       "      <td>USD</td>\n",
       "      <td>EUR</td>\n",
       "      <td>BTC</td>\n",
       "    </tr>\n",
       "    <tr>\n",
       "      <th>codein</th>\n",
       "      <td>BRL</td>\n",
       "      <td>BRL</td>\n",
       "      <td>BRL</td>\n",
       "    </tr>\n",
       "    <tr>\n",
       "      <th>name</th>\n",
       "      <td>Dólar Americano/Real Brasileiro</td>\n",
       "      <td>Euro/Real Brasileiro</td>\n",
       "      <td>Bitcoin/Real Brasileiro</td>\n",
       "    </tr>\n",
       "    <tr>\n",
       "      <th>high</th>\n",
       "      <td>5.0778</td>\n",
       "      <td>5.4501</td>\n",
       "      <td>328000</td>\n",
       "    </tr>\n",
       "    <tr>\n",
       "      <th>low</th>\n",
       "      <td>5.0707</td>\n",
       "      <td>5.4501</td>\n",
       "      <td>320307</td>\n",
       "    </tr>\n",
       "    <tr>\n",
       "      <th>varBid</th>\n",
       "      <td>0.004</td>\n",
       "      <td>0</td>\n",
       "      <td>-1548</td>\n",
       "    </tr>\n",
       "    <tr>\n",
       "      <th>pctChange</th>\n",
       "      <td>0.08</td>\n",
       "      <td>0</td>\n",
       "      <td>-0.48</td>\n",
       "    </tr>\n",
       "    <tr>\n",
       "      <th>bid</th>\n",
       "      <td>5.0744</td>\n",
       "      <td>5.4461</td>\n",
       "      <td>321328</td>\n",
       "    </tr>\n",
       "    <tr>\n",
       "      <th>ask</th>\n",
       "      <td>5.0751</td>\n",
       "      <td>5.4541</td>\n",
       "      <td>321681</td>\n",
       "    </tr>\n",
       "    <tr>\n",
       "      <th>timestamp</th>\n",
       "      <td>1715117323</td>\n",
       "      <td>1715117848</td>\n",
       "      <td>1715117849</td>\n",
       "    </tr>\n",
       "    <tr>\n",
       "      <th>create_date</th>\n",
       "      <td>2024-05-07 18:28:43</td>\n",
       "      <td>2024-05-07 18:37:28</td>\n",
       "      <td>2024-05-07 18:37:29</td>\n",
       "    </tr>\n",
       "  </tbody>\n",
       "</table>\n",
       "</div>"
      ],
      "text/plain": [
       "                                      USDBRL                EURBRL  \\\n",
       "code                                     USD                   EUR   \n",
       "codein                                   BRL                   BRL   \n",
       "name         Dólar Americano/Real Brasileiro  Euro/Real Brasileiro   \n",
       "high                                  5.0778                5.4501   \n",
       "low                                   5.0707                5.4501   \n",
       "varBid                                 0.004                     0   \n",
       "pctChange                               0.08                     0   \n",
       "bid                                   5.0744                5.4461   \n",
       "ask                                   5.0751                5.4541   \n",
       "timestamp                         1715117323            1715117848   \n",
       "create_date              2024-05-07 18:28:43   2024-05-07 18:37:28   \n",
       "\n",
       "                              BTCBRL  \n",
       "code                             BTC  \n",
       "codein                           BRL  \n",
       "name         Bitcoin/Real Brasileiro  \n",
       "high                          328000  \n",
       "low                           320307  \n",
       "varBid                         -1548  \n",
       "pctChange                      -0.48  \n",
       "bid                           321328  \n",
       "ask                           321681  \n",
       "timestamp                 1715117849  \n",
       "create_date      2024-05-07 18:37:29  "
      ]
     },
     "metadata": {},
     "output_type": "display_data"
    }
   ],
   "source": [
    "import requests\n",
    "import pandas as pd\n",
    "\n",
    "url = \"https://economia.awesomeapi.com.br/last/USD-BRL,EUR-BRL,BTC-BRL\"\n",
    "\n",
    "response = requests.get(url)\n",
    "\n",
    "if response.status_code == 200:\n",
    "    dados_ativos = response.json() \n",
    "    \n",
    "    tabela = pd.DataFrame(dados_ativos)\n",
    "    \n",
    "    display(tabela)\n",
    "else:\n",
    "    print(\"Erro ao conseguir os dados!. Status Code:\", response.status_code)\n",
    "\n"
   ]
  },
  {
   "cell_type": "code",
   "execution_count": 6,
   "metadata": {},
   "outputs": [
    {
     "name": "stdout",
     "output_type": "stream",
     "text": [
      "O valor do dolar hoje é R$5.0778\n"
     ]
    }
   ],
   "source": [
    "import requests\n",
    "\n",
    "def main():\n",
    "    \n",
    "    r = requests.get(\"http://economia.awesomeapi.com.br/all/USD-BRL\")\n",
    "    if r.status_code == 200:\n",
    "        valor_dolar = r.json() [\"USD\"] [\"high\"]\n",
    "        print(f\"O valor do dolar hoje é R${valor_dolar}\")\n",
    "    else:\n",
    "        print(\"Erro ao acessar a API {r.status_code}\")\n",
    "        \n",
    "if __name__ == \"__main__\":\n",
    "    main()"
   ]
  }
 ],
 "metadata": {
  "kernelspec": {
   "display_name": "base",
   "language": "python",
   "name": "python3"
  },
  "language_info": {
   "codemirror_mode": {
    "name": "ipython",
    "version": 3
   },
   "file_extension": ".py",
   "mimetype": "text/x-python",
   "name": "python",
   "nbconvert_exporter": "python",
   "pygments_lexer": "ipython3",
   "version": "3.11.3"
  }
 },
 "nbformat": 4,
 "nbformat_minor": 2
}
